{
 "cells": [
  {
   "cell_type": "code",
   "execution_count": 1,
   "metadata": {},
   "outputs": [
    {
     "name": "stderr",
     "output_type": "stream",
     "text": [
      "2025-03-17 13:26:23.530473: I tensorflow/core/platform/cpu_feature_guard.cc:210] This TensorFlow binary is optimized to use available CPU instructions in performance-critical operations.\n",
      "To enable the following instructions: AVX2 AVX512F AVX512_VNNI FMA, in other operations, rebuild TensorFlow with the appropriate compiler flags.\n"
     ]
    }
   ],
   "source": [
    "import pandas as pd\n",
    "import numpy as np\n",
    "\n",
    "# pip install sentence-transformers (it takes a while to load)\n",
    "from sentence_transformers import SentenceTransformer, util"
   ]
  },
  {
   "cell_type": "code",
   "execution_count": 2,
   "metadata": {},
   "outputs": [],
   "source": [
    "df = pd.read_csv('rawdata.csv')\n",
    "\n",
    "# get rid of 'data.' prefix\n",
    "df.columns = df.columns.str.replace('data.', '')"
   ]
  },
  {
   "cell_type": "code",
   "execution_count": 3,
   "metadata": {},
   "outputs": [],
   "source": [
    "'''\n",
    "Documentation: https://huggingface.co/sentence-transformers\n",
    "\n",
    "TODO: Have a threshold where if the score is too low it is rejected\n",
    "'''\n",
    "\n",
    "model = SentenceTransformer(\"all-MiniLM-L6-v2\")\n",
    "\n",
    "stat_mapping = {\n",
    "    \"points\": \"points\",\n",
    "    \"score\": \"points\",\n",
    "    \"assists\": \"assists\",\n",
    "    \"rebounds\": \"totalReb\",\n",
    "    \"total rebounds\": \"totalReb\",\n",
    "    \"boards\": \"totalReb\",\n",
    "    \"offensive rebounds\": \"offReb\",\n",
    "    \"defensive rebounds\": \"defReb\",\n",
    "    \"steals\": \"steals\",\n",
    "    \"blocks\": \"blocks\",  \n",
    "    \"turnovers\": \"turnovers\",\n",
    "}\n",
    "\n",
    "stats = list(stat_mapping)\n",
    "stat_embeddings = model.encode(stats, convert_to_tensor=True)\n",
    "names = df['player.name']\n",
    "name_embeddings = model.encode(names, convert_to_tensor=True)"
   ]
  },
  {
   "cell_type": "code",
   "execution_count": 25,
   "metadata": {},
   "outputs": [],
   "source": [
    "\n",
    "def get_stat(query):\n",
    "    query_embedding = model.encode(query, convert_to_tensor=True)\n",
    "    \n",
    "    similarities = util.pytorch_cos_sim(query_embedding, stat_embeddings).squeeze(0)\n",
    "    \n",
    "    match_index = np.argmax(similarities.numpy())\n",
    "    score = similarities[match_index].item() \n",
    "\n",
    "    #print(score)\n",
    "    #print(stat_mapping[stats[match_index]])\n",
    "    return match_index\n",
    "\n",
    "\n",
    "\n",
    "def get_name(query):\n",
    "    query_embedding = model.encode(query, convert_to_tensor=True)\n",
    "    \n",
    "    similarities = util.pytorch_cos_sim(query_embedding, name_embeddings).squeeze(0)\n",
    "    \n",
    "    match_index = np.argmax(similarities.numpy())\n",
    "    score = similarities[match_index].item()\n",
    "\n",
    "    #print(score)\n",
    "    #print(names[match_index])\n",
    "\n",
    "    return match_index\n",
    "\n",
    "def output(query):\n",
    "    stat_index = get_stat(query)\n",
    "    stat = stats[stat_index]\n",
    "\n",
    "    name_index = get_name(query)\n",
    "    name = names[name_index]\n",
    "\n",
    "    result = df.query(f\"`player.name` == '{name}'\")[stat_mapping[stat]].iloc[0]\n",
    "\n",
    "    print(f\"{name} had {result} {stat}\")\n"
   ]
  },
  {
   "cell_type": "code",
   "execution_count": 26,
   "metadata": {},
   "outputs": [
    {
     "name": "stdout",
     "output_type": "stream",
     "text": [
      "Isaac McKneely had 87 total rebounds\n"
     ]
    }
   ],
   "source": [
    "query = \"How many rebounds would you say Isaac McKneely had this year\"\n",
    "output(query)"
   ]
  }
 ],
 "metadata": {
  "kernelspec": {
   "display_name": "Python 3.12.3 ('base')",
   "language": "python",
   "name": "python3"
  },
  "language_info": {
   "codemirror_mode": {
    "name": "ipython",
    "version": 3
   },
   "file_extension": ".py",
   "mimetype": "text/x-python",
   "name": "python",
   "nbconvert_exporter": "python",
   "pygments_lexer": "ipython3",
   "version": "3.12.3"
  },
  "orig_nbformat": 4,
  "vscode": {
   "interpreter": {
    "hash": "56ec68eb7dcfc5e71f308b1145c2915d72d5c9872151048401805602f79c6c8b"
   }
  }
 },
 "nbformat": 4,
 "nbformat_minor": 2
}
